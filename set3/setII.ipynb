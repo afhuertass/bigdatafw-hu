{
 "cells": [
  {
   "cell_type": "code",
   "execution_count": null,
   "metadata": {},
   "outputs": [],
   "source": [
    "sc.version"
   ]
  },
  {
   "cell_type": "code",
   "execution_count": null,
   "metadata": {},
   "outputs": [],
   "source": [
    "from operator import add "
   ]
  },
  {
   "cell_type": "code",
   "execution_count": null,
   "metadata": {},
   "outputs": [],
   "source": [
    "import objects"
   ]
  },
  {
   "cell_type": "code",
   "execution_count": null,
   "metadata": {},
   "outputs": [],
   "source": [
    "data = sc.textFile(\"./carat-context-factor-data/carat-context-factors-percom.csv\"  )"
   ]
  },
  {
   "cell_type": "code",
   "execution_count": null,
   "metadata": {},
   "outputs": [],
   "source": [
    "data_rdd = data.map( lambda x: x.replace(\"'\" , '').split(\";\") ).map( lambda line: objects.Carat(line) )"
   ]
  },
  {
   "cell_type": "code",
   "execution_count": null,
   "metadata": {
    "scrolled": true
   },
   "outputs": [],
   "source": [
    "data_rdd.take(3)[0]"
   ]
  },
  {
   "cell_type": "code",
   "execution_count": null,
   "metadata": {},
   "outputs": [],
   "source": [
    "def pearson( rdd , x  , y  ):\n",
    "    \n",
    "    rdd_x = rdd.map( lambda obj:  obj.data[x] )\n",
    "    rdd_y = rdd.map( lambda obj: obj.data[y] )\n",
    "    x_mean = rdd_x.reduce( add ) / rdd_x.count()\n",
    "    y_mean = rdd_y.reduce(add) / rdd_x.count()\n",
    "        \n",
    "    sigma_x = rdd_x.map( lambda f :  (f - x_mean)**2  ).reduce(add)\n",
    "    sigma_y = rdd_y.map( lambda f: (f- y_mean)**2 ).reduce( add )\n",
    "    \n",
    "    rdd_x = rdd_x.map( lambda f : f - x_mean )\n",
    "    rdd_y = rdd_y.map( lambda f : f - y_mean )\n",
    "    \n",
    "    sg = sigma_x*sigma_y\n",
    "    \n",
    "    pearson = (rdd_x*rdd_y).reduce(add)/sg \n",
    "    \n",
    "    return pearson\n",
    "    "
   ]
  },
  {
   "cell_type": "code",
   "execution_count": null,
   "metadata": {},
   "outputs": [],
   "source": [
    "%timeit pearson( data_rdd ,\"energyRate\", \"cpuUsage\" )"
   ]
  },
  {
   "cell_type": "code",
   "execution_count": null,
   "metadata": {},
   "outputs": [],
   "source": [
    "%timeit pearson( data_rdd ,\"energyRate\", \"screenBright\" )"
   ]
  },
  {
   "cell_type": "code",
   "execution_count": null,
   "metadata": {},
   "outputs": [],
   "source": [
    "%timeit pearson( data_rdd ,\"energyRate\", \"wifiSpeed\" )"
   ]
  },
  {
   "cell_type": "code",
   "execution_count": null,
   "metadata": {},
   "outputs": [],
   "source": [
    "%timeit pearson( data_rdd ,\"energyRate\", \"wifiStre\" )"
   ]
  },
  {
   "cell_type": "markdown",
   "metadata": {},
   "source": [
    "# Ex 2"
   ]
  },
  {
   "cell_type": "code",
   "execution_count": 100,
   "metadata": {},
   "outputs": [],
   "source": [
    "from pyspark.sql.types import StructType, StructField\n",
    "from pyspark.sql.types import DoubleType, IntegerType, StringType, FloatType"
   ]
  },
  {
   "cell_type": "code",
   "execution_count": 124,
   "metadata": {},
   "outputs": [],
   "source": [
    "caratSchema = StructType([\n",
    "    StructField( \"energyRate\" , FloatType()),\n",
    "    StructField(\"batteryHealth\", StringType()),\n",
    "    StructField(\"batteryTemperature\", FloatType()),\n",
    "    StructField(\"batteryVoltage\", FloatType()),\n",
    "    StructField(\"cpuUsage\" , FloatType()) , \n",
    "    StructField(\"distanceTraveled\", IntegerType()),\n",
    "    StructField( \"mobileDataActivity\" , StringType()),\n",
    "    StructField(\"mobileDataStatus\", StringType()),\n",
    "    StructField(\"mobileNetworkType\", StringType()),\n",
    "    StructField(\"networkType\", StringType()),\n",
    "    StructField(\"roamingEnabled\", StringType()),\n",
    "    StructField(\"screenBrightness\", FloatType()),\n",
    "    StructField(\"wifiLinkSpeed\", StringType()),\n",
    "    StructField(\"wifiSignalStrength\", IntegerType()),\n",
    "])"
   ]
  },
  {
   "cell_type": "code",
   "execution_count": 125,
   "metadata": {},
   "outputs": [],
   "source": [
    "caratDf = spark.read.csv('./carat-context-factor-data/carat-context-factors-percom.csv', header=True, schema=caratSchema , sep = \";\")"
   ]
  },
  {
   "cell_type": "code",
   "execution_count": 126,
   "metadata": {},
   "outputs": [
    {
     "data": {
      "text/plain": [
       "pyspark.sql.dataframe.DataFrame"
      ]
     },
     "execution_count": 126,
     "metadata": {},
     "output_type": "execute_result"
    }
   ],
   "source": [
    "type( caratDf )"
   ]
  },
  {
   "cell_type": "code",
   "execution_count": 127,
   "metadata": {},
   "outputs": [
    {
     "name": "stdout",
     "output_type": "stream",
     "text": [
      "+------------------+\n",
      "|batteryTemperature|\n",
      "+------------------+\n",
      "|              18.0|\n",
      "|              64.0|\n",
      "|              47.0|\n",
      "|               9.0|\n",
      "|              58.0|\n",
      "|             -11.0|\n",
      "|             -40.0|\n",
      "|              39.0|\n",
      "|               5.0|\n",
      "|              17.0|\n",
      "|              30.0|\n",
      "|       -4.350208E7|\n",
      "|             -17.0|\n",
      "|              90.0|\n",
      "|              26.0|\n",
      "|              41.0|\n",
      "|             -16.0|\n",
      "|              29.0|\n",
      "|              -9.0|\n",
      "|              23.0|\n",
      "+------------------+\n",
      "only showing top 20 rows\n",
      "\n"
     ]
    }
   ],
   "source": [
    "caratDf.select(\"batteryTemperature\").distinct().show()"
   ]
  },
  {
   "cell_type": "code",
   "execution_count": 128,
   "metadata": {},
   "outputs": [
    {
     "name": "stdout",
     "output_type": "stream",
     "text": [
      "+--------------+\n",
      "|batteryVoltage|\n",
      "+--------------+\n",
      "|         3.703|\n",
      "|         4.224|\n",
      "|         3.467|\n",
      "|         3.442|\n",
      "|        3599.0|\n",
      "|         7.515|\n",
      "|          3.32|\n",
      "|      3883.281|\n",
      "|        11.857|\n",
      "|         6.705|\n",
      "|      3724.053|\n",
      "|      3809.769|\n",
      "|        12.209|\n",
      "|        11.913|\n",
      "|      3643.755|\n",
      "|         2.826|\n",
      "|      4157.583|\n",
      "|      4015.224|\n",
      "|          8.26|\n",
      "|      4013.706|\n",
      "+--------------+\n",
      "only showing top 20 rows\n",
      "\n"
     ]
    }
   ],
   "source": [
    "caratDf.select(\"batteryVoltage\").distinct().show()"
   ]
  },
  {
   "cell_type": "code",
   "execution_count": 129,
   "metadata": {},
   "outputs": [],
   "source": [
    "#outliers \n",
    "\n",
    "out_batteryTemperature = caratDf.filter( caratDf.batteryTemperature < 0.0 ).count() + caratDf.filter( caratDf.batteryTemperature >= 50.0  ).count() \n",
    "out_batteryVoltage =  caratDf.filter( caratDf.batteryVoltage < 2.0 ).count() + caratDf.filter( caratDf.batteryVoltage >= 4.5  ).count() "
   ]
  },
  {
   "cell_type": "code",
   "execution_count": 130,
   "metadata": {},
   "outputs": [
    {
     "data": {
      "text/plain": [
       "9030"
      ]
     },
     "execution_count": 130,
     "metadata": {},
     "output_type": "execute_result"
    }
   ],
   "source": [
    "out_batteryTemperature"
   ]
  },
  {
   "cell_type": "code",
   "execution_count": 131,
   "metadata": {},
   "outputs": [
    {
     "data": {
      "text/plain": [
       "293296"
      ]
     },
     "execution_count": 131,
     "metadata": {},
     "output_type": "execute_result"
    }
   ],
   "source": [
    "out_batteryVoltage"
   ]
  },
  {
   "cell_type": "code",
   "execution_count": 132,
   "metadata": {},
   "outputs": [],
   "source": [
    "carat = caratDf.select([ \"energyRate\" ,  \"cpuUsage\" , \"screenBrightness\" , \"wifiSignalStrength\" , \"wifiLinkSpeed\" ])"
   ]
  },
  {
   "cell_type": "code",
   "execution_count": 136,
   "metadata": {},
   "outputs": [],
   "source": [
    "carat = carat.filter( carat.cpuUsage >= 0.0 ).filter( carat.cpuUsage <= 1.0 )\n",
    "carat = carat.filter( carat.screenBrightness >= 0 ).filter( carat.screenBrightness <= 255 )\n",
    "carat = carat.filter( carat.wifiSignalStrength >  -100 ).filter( carat.wifiSignalStrength < 0 )"
   ]
  },
  {
   "cell_type": "code",
   "execution_count": 134,
   "metadata": {},
   "outputs": [
    {
     "data": {
      "text/plain": [
       "DataFrame[energyRate: float, cpuUsage: float, screenBrightness: float, wifiSignalStrength: int, wifiLinkSpeed: string]"
      ]
     },
     "execution_count": 134,
     "metadata": {},
     "output_type": "execute_result"
    }
   ],
   "source": [
    "carat"
   ]
  },
  {
   "cell_type": "code",
   "execution_count": 138,
   "metadata": {},
   "outputs": [
    {
     "data": {
      "text/plain": [
       "0.013069832948308456"
      ]
     },
     "execution_count": 138,
     "metadata": {},
     "output_type": "execute_result"
    }
   ],
   "source": [
    "carat.corr(  \"energyRate\" , \"cpuUsage\" )"
   ]
  },
  {
   "cell_type": "code",
   "execution_count": null,
   "metadata": {},
   "outputs": [],
   "source": []
  }
 ],
 "metadata": {
  "kernelspec": {
   "display_name": "Python 2",
   "language": "python",
   "name": "python2"
  },
  "language_info": {
   "codemirror_mode": {
    "name": "ipython",
    "version": 3
   },
   "file_extension": ".py",
   "mimetype": "text/x-python",
   "name": "python",
   "nbconvert_exporter": "python",
   "pygments_lexer": "ipython3",
   "version": "3.5.2"
  }
 },
 "nbformat": 4,
 "nbformat_minor": 2
}
